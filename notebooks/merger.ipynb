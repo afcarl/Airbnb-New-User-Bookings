{
 "cells": [
  {
   "cell_type": "code",
   "execution_count": 1,
   "metadata": {
    "collapsed": true
   },
   "outputs": [],
   "source": [
    "import datetime\n",
    "import numpy as np, pandas as pd"
   ]
  },
  {
   "cell_type": "code",
   "execution_count": null,
   "metadata": {
    "collapsed": true
   },
   "outputs": [],
   "source": [
    "def convertDate(d):\n",
    "    if d != '':\n",
    "        dt = datetime.datetime.strptime(d, '%Y-%m-%d')\n",
    "    else:\n",
    "        dt = d\n",
    "    return dt\n",
    "\n",
    "countries = pd.read_csv('../input/countries.csv')\n",
    "census = pd.read_csv('../input/age_gender_bkts.csv')\n",
    "sessions = pd.read_csv('../output/sessions_parsed.csv')\n",
    "train = pd.read_csv('../input/train_users_2.csv', converters={'date_account_created': convertDate, 'date_first_booking': convertDate})\n",
    "test = pd.read_csv('../input/test_users.csv', converters={'date_account_created': convertDate})"
   ]
  },
  {
   "cell_type": "code",
   "execution_count": null,
   "metadata": {
    "collapsed": true
   },
   "outputs": [],
   "source": [
    "train_ = train.merge(sessions, how='left', on='id')\n",
    "test_ = test.merge(sessions, how='left', on='id')\n",
    "train_notnull = train_[~train_.tot_time_elapsed.isnull()]\n",
    "train_null = train_[train_.tot_time_elapsed.isnull()]\n",
    "test_notnull = test_[~test_.tot_time_elapsed.isnull()]\n",
    "test_null = test_[test_.tot_time_elapsed.isnull()]"
   ]
  }
 ],
 "metadata": {
  "kernelspec": {
   "display_name": "Python 2",
   "language": "python",
   "name": "python2"
  },
  "language_info": {
   "codemirror_mode": {
    "name": "ipython",
    "version": 2
   },
   "file_extension": ".py",
   "mimetype": "text/x-python",
   "name": "python",
   "nbconvert_exporter": "python",
   "pygments_lexer": "ipython2",
   "version": "2.7.10"
  }
 },
 "nbformat": 4,
 "nbformat_minor": 0
}
